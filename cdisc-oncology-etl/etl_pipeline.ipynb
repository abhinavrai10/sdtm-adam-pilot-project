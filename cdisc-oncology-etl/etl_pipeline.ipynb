{
 "cells": [
  {
   "cell_type": "markdown",
   "id": "43153b40",
   "metadata": {},
   "source": [
    "# DISCLAIMER AND LIABILITY\n",
    "\n",
    "This website provides clinical test data for informational purposes and the convenience of the public. CDISC does not control or guarantee the currency, accuracy, relevance, or completeness of the data. The data has been analyzed, cleansed, and aggregated where appropriate to facilitate use and discussion in research. By downloading / using this data, you agree to the Terms of use.\n",
    "\n",
    "## Terms of Use\n",
    "\n",
    "You shall not (and will not allow or assist any third party to), under any circumstances: (i) mislead, confuse, or cause misapprehension or confusion among users of the data as to the features, functionality, origin, capabilities, or other aspects of the data, (b) disassemble, reverse engineer, decompile, modify, or alter any part of the Data; (c) use the Data in any manner or for any purpose that violates any law or regulation, (d) use the Data in order to compete with CDISC, (e) sublicense or distribute the data for a fee, or (f) sublicense or distribute the data without an attribution back to CDISC.\n",
    "\n",
    "UNLESS REQUIRED BY APPLICABLE LAW, ACCESS AND USE OF THE DATA IS PROVIDED BY CDISC AND ITS CONSTITUENT PARTS (INCLUDING, BUT NOT LIMITED TO THE CDISC BOARD OF DIRECTORS, CDISC EMPLOYEES, AND CDISC MEMBERS, PARTICIPANTS, CONTRACTORS, AND REPRESENTATIVES) \"AS IS\" AND WITHOUT ANY WARRANTIES WHATSOEVER, WHETHER EXPRESS, IMPLIED, STATUTORY, OR OTHERWISE, AND CDISC AND ITS CONSTITUENT PARTS (INCLUDING, BUT NOT LIMITED TO THE CDISC BOARD OF DIRECTORS, CDISC EMPLOYEES, AND CDISC MEMBERS, PARTICIPANTS, CONTRACTORS, AND REPRESENTATIVES) EXPRESSLY DISCLAIM ANY WARRANTY OF  MERCHANTABILITY, TITLE, NONINFRINGEMENT, FITNESS FOR A PARTICULAR OR INTENDED PURPOSE, OR ANY OTHER WARRANTY OTHERWISE ARISING OUT OF THIS LETTER AGREEMENT, INCLUDING ACCESS OR USE OF THE DATA. You are solely responsible for determining the appropriateness of accessing and/or using the data and assume any risks associated with your access and/or use.\n",
    "\n",
    "IN NO EVENT AND UNDER NO LEGAL THEORY, WHETHER IN TORT (INCLUDING NEGLIGENCE), CONTRACT, OR OTHERWISE, UNLESS REQUIRED BY APPLICABLE LAW (SUCH AS DELIBERATE AND GROSSLY NEGLIGENT ACTS) OR AGREED TO IN WRITING, SHALL CDISC, ANY OF CDISC’S CONSTITUENT PARTS (INCLUDING, BUT NOT LIMITED TO THE CDISC BOARD OF DIRECTORS, THE CDISC EMPLOYEES, OR CDISC MEMBERS, PARTICIPANTS, CONTRACTORS, OR REPRESENTATIVES) BE LIABLE FOR DAMAGES, INCLUDING ANY DIRECT, INDIRECT, SPECIAL, EXEMPLARY, INCIDENTAL, OR CONSEQUENTIAL DAMAGES OF ANY CHARACTER ARISING IN ANY WAY AS A RESULT OF THIS LETTER AGREEMENT OR OUT OF THE USE OR INABILITY TO USE THE DATA (INCLUDING DAMAGES FOR LOSS OF GOODWILL, LOSS OF PROFITS, LOSS OF USE, OR BUSINESS INTERRUPTION), EVEN IF ADVISED OF THE POSSIBILITY OF SUCH DAMAGES.  THIS LIMITATION OF DAMAGES AND CLAIMS IS INTENDED TO APPLY TO ALL CLAIMS WITHOUT REGARD TO WHICH OTHER PROVISIONS OF THIS LETTER AGREEMENT HAVE BEEN BREACHED OR PROVEN INEFFECTIVE."
   ]
  },
  {
   "cell_type": "markdown",
   "id": "cacb8249-fe8f-46d9-bdbc-e9f522a0509c",
   "metadata": {},
   "source": [
    "---"
   ]
  },
  {
   "cell_type": "markdown",
   "id": "2bfbd612-87fd-405d-b15d-27a6b93e9040",
   "metadata": {},
   "source": [
    "# CDISC Oncology ETL: Transformations for DM, AE, and LB Datasets"
   ]
  },
  {
   "cell_type": "markdown",
   "id": "2c706a42-e9eb-457c-8cb5-ad25bb092e47",
   "metadata": {},
   "source": [
    "### Imports"
   ]
  },
  {
   "cell_type": "code",
   "execution_count": 1,
   "id": "e7a181ed-2eef-4c1e-827f-6435f825835e",
   "metadata": {},
   "outputs": [],
   "source": [
    "import pandas as pd\n",
    "import pyreadstat\n",
    "import os"
   ]
  },
  {
   "cell_type": "markdown",
   "id": "1da365b7-75e9-437a-ad53-6eaad696595b",
   "metadata": {},
   "source": [
    "### Load raw DM.xpt"
   ]
  },
  {
   "cell_type": "code",
   "execution_count": 2,
   "id": "8701247b-a3ff-439d-81c9-ee0a8f95b866",
   "metadata": {},
   "outputs": [
    {
     "ename": "PyreadstatError",
     "evalue": "File updated-pilot-submission-package\\900172\\m5\\datasets\\cdiscpilot01\\tabulations\\sdtm\\dm.xpt does not exist!",
     "output_type": "error",
     "traceback": [
      "\u001b[31m---------------------------------------------------------------------------\u001b[39m",
      "\u001b[31mPyreadstatError\u001b[39m                           Traceback (most recent call last)",
      "\u001b[36mCell\u001b[39m\u001b[36m \u001b[39m\u001b[32mIn[2]\u001b[39m\u001b[32m, line 6\u001b[39m\n\u001b[32m      3\u001b[39m     dm_df, dm_meta = pyreadstat.read_xport(os.path.join(data_path, \u001b[33m'\u001b[39m\u001b[33mdm.xpt\u001b[39m\u001b[33m'\u001b[39m))\n\u001b[32m      4\u001b[39m     \u001b[38;5;28;01mreturn\u001b[39;00m dm_df\n\u001b[32m----> \u001b[39m\u001b[32m6\u001b[39m dm_df = \u001b[43mload_dm_data\u001b[49m\u001b[43m(\u001b[49m\u001b[43m)\u001b[49m\n\u001b[32m      7\u001b[39m dm_df.head(\u001b[32m5\u001b[39m)\n",
      "\u001b[36mCell\u001b[39m\u001b[36m \u001b[39m\u001b[32mIn[2]\u001b[39m\u001b[32m, line 3\u001b[39m, in \u001b[36mload_dm_data\u001b[39m\u001b[34m()\u001b[39m\n\u001b[32m      1\u001b[39m \u001b[38;5;28;01mdef\u001b[39;00m\u001b[38;5;250m \u001b[39m\u001b[34mload_dm_data\u001b[39m():\n\u001b[32m      2\u001b[39m     data_path = \u001b[33mr\u001b[39m\u001b[33m'\u001b[39m\u001b[33mupdated-pilot-submission-package\u001b[39m\u001b[33m\\\u001b[39m\u001b[33m900172\u001b[39m\u001b[33m\\\u001b[39m\u001b[33mm5\u001b[39m\u001b[33m\\\u001b[39m\u001b[33mdatasets\u001b[39m\u001b[33m\\\u001b[39m\u001b[33mcdiscpilot01\u001b[39m\u001b[33m\\\u001b[39m\u001b[33mtabulations\u001b[39m\u001b[33m\\\u001b[39m\u001b[33msdtm\u001b[39m\u001b[33m'\u001b[39m\n\u001b[32m----> \u001b[39m\u001b[32m3\u001b[39m     dm_df, dm_meta = \u001b[43mpyreadstat\u001b[49m\u001b[43m.\u001b[49m\u001b[43mread_xport\u001b[49m\u001b[43m(\u001b[49m\u001b[43mos\u001b[49m\u001b[43m.\u001b[49m\u001b[43mpath\u001b[49m\u001b[43m.\u001b[49m\u001b[43mjoin\u001b[49m\u001b[43m(\u001b[49m\u001b[43mdata_path\u001b[49m\u001b[43m,\u001b[49m\u001b[43m \u001b[49m\u001b[33;43m'\u001b[39;49m\u001b[33;43mdm.xpt\u001b[39;49m\u001b[33;43m'\u001b[39;49m\u001b[43m)\u001b[49m\u001b[43m)\u001b[49m\n\u001b[32m      4\u001b[39m     \u001b[38;5;28;01mreturn\u001b[39;00m dm_df\n",
      "\u001b[36mFile \u001b[39m\u001b[32mpyreadstat/pyreadstat.pyx:205\u001b[39m, in \u001b[36mpyreadstat.pyreadstat.read_xport\u001b[39m\u001b[34m()\u001b[39m\n",
      "\u001b[36mFile \u001b[39m\u001b[32mpyreadstat/_readstat_parser.pyx:1195\u001b[39m, in \u001b[36mpyreadstat._readstat_parser.run_conversion\u001b[39m\u001b[34m()\u001b[39m\n",
      "\u001b[31mPyreadstatError\u001b[39m: File updated-pilot-submission-package\\900172\\m5\\datasets\\cdiscpilot01\\tabulations\\sdtm\\dm.xpt does not exist!"
     ]
    }
   ],
   "source": [
    "def load_dm_data():\n",
    "    data_path = r'updated-pilot-submission-package\\900172\\m5\\datasets\\cdiscpilot01\\tabulations\\sdtm'\n",
    "    dm_df, dm_meta = pyreadstat.read_xport(os.path.join(data_path, 'dm.xpt'))\n",
    "    return dm_df\n",
    "\n",
    "dm_df = load_dm_data()\n",
    "dm_df.head(5)"
   ]
  },
  {
   "cell_type": "markdown",
   "id": "c5210a73-89bb-481e-9a07-dea5f09cd2c1",
   "metadata": {},
   "source": [
    "### 1. Missing Value Imputation"
   ]
  },
  {
   "cell_type": "code",
   "execution_count": null,
   "id": "a7a7cada-621f-4075-b369-8b27155f2401",
   "metadata": {},
   "outputs": [],
   "source": [
    "def impute_missing(df):\n",
    "    df = df.copy()\n",
    "    df['RACE'] = df['RACE'].fillna('Unknown')\n",
    "    df['ETHNIC'] = df['ETHNIC'].fillna('Unknown')\n",
    "    df['COUNTRY'] = df['COUNTRY'].fillna(df['COUNTRY'].mode()[0] if not df['COUNTRY'].mode().empty else 'Unknown')\n",
    "    df['DMDY'] = df['DMDY'].fillna(df['DMDY'].median())\n",
    "    df.dropna(subset=['USUBJID'], inplace=True)\n",
    "    return df\n",
    "\n",
    "impute_missing_df = impute_missing(dm_df)\n",
    "impute_missing_df.head(5)\n",
    "    "
   ]
  },
  {
   "cell_type": "markdown",
   "id": "137785f6-cf17-4adb-886c-efa234ccaee5",
   "metadata": {},
   "source": [
    "### 2. Date Standardization"
   ]
  },
  {
   "cell_type": "code",
   "execution_count": null,
   "id": "9f5095af-b782-4c69-8d9e-62f7f91759f1",
   "metadata": {},
   "outputs": [],
   "source": [
    "def standardize_dates(df):\n",
    "    df = df.copy()\n",
    "    date_cols = ['RFSTDTC', 'RFENDTC', 'RFXSTDTC', 'RFXENDTC', 'RFICDTC', 'RFPENDTC', 'DTHDTC', 'DMDTC']\n",
    "    for col in date_cols:\n",
    "        if col in dm_df.columns:\n",
    "           df[col] = pd.to_datetime(dm_df[col], errors='coerce')\n",
    "    return df\n",
    "\n",
    "standardize_df = standardize_dates(impute_missing_df)\n",
    "standardize_df.head(5)"
   ]
  },
  {
   "cell_type": "markdown",
   "id": "0232abf6-7213-4249-869f-a9c5d83392bc",
   "metadata": {},
   "source": [
    "### 3. Data Type Enforcement (per CDISC specs)"
   ]
  },
  {
   "cell_type": "code",
   "execution_count": null,
   "id": "a2aa2f7a-2d43-463b-858e-0c78e94a5293",
   "metadata": {},
   "outputs": [],
   "source": [
    "def enforce_data_types(df):\n",
    "    df = df.copy()\n",
    "    df['AGE'] = pd.to_numeric(df['AGE'], errors='coerce').astype('Int64')\n",
    "    df['AGEU'] = df['AGEU'].astype('category')\n",
    "    df['SEX'] = df['SEX'].astype('category')\n",
    "    df['RACE'] = df['RACE'].astype('category')\n",
    "    df['ETHNIC'] = df['ETHNIC'].astype('category')\n",
    "    df['STUDYID'] = df['STUDYID'].astype(str)\n",
    "    df['DMDY'] = pd.to_numeric(df['DMDY'], errors='coerce').astype('Int64')\n",
    "    df['DTHFL'] = df['DTHFL'].astype('category')\n",
    "    return df\n",
    "\n",
    "enforce_data_df = enforce_data_types(standardize_df)\n",
    "enforce_data_df.head(5)"
   ]
  },
  {
   "cell_type": "markdown",
   "id": "4b2c396f-b71d-4b07-a473-7d486e3b2465",
   "metadata": {},
   "source": [
    "### 4. Derived Variables (insights-focused for oncology)"
   ]
  },
  {
   "cell_type": "code",
   "execution_count": null,
   "id": "4577f5d5-5b6b-4f3b-839b-382b7de054bf",
   "metadata": {},
   "outputs": [],
   "source": [
    "def derive_variables(df):\n",
    "    df = df.copy()\n",
    "    \n",
    "    def age_group(age):\n",
    "        if pd.isna(age):\n",
    "            return 'Unknown'\n",
    "        elif age < 18:\n",
    "            return 'Pediatric'\n",
    "        elif age <= 65:\n",
    "            return 'Adult'\n",
    "        else:\n",
    "            return 'Senior'\n",
    "    df['AGE_GROUP'] = df['AGE'].apply(age_group)\n",
    "    \n",
    "    df['STUDY_DURATION'] = df['DMDY'].fillna(0)\n",
    "    if 'RFXENDTC' in df.columns and 'RFXSTDTC' in df.columns:\n",
    "        df['STUDY_DURATION'] = df['STUDY_DURATION'].fillna((df['RFXENDTC'] - df['RFXSTDTC']).dt.days)\n",
    "    \n",
    "    df['ARM_TYPE'] = df['ARM'].str.lower().str.contains('placebo|control', na=False).map({True: 'Control', False: 'Treatment'}).fillna('Unknown')\n",
    "    return df\n",
    "\n",
    "derive_variables_df = derive_variables(enforce_data_df)\n",
    "derive_variables_df.head(5)"
   ]
  },
  {
   "cell_type": "markdown",
   "id": "e71ea4ca-962b-42d9-b3f7-a15548ca2506",
   "metadata": {},
   "source": [
    "### 5. Outlier Detection/Cleaning"
   ]
  },
  {
   "cell_type": "code",
   "execution_count": null,
   "id": "f6c1bd23-d4e0-4657-b92d-8cfdbab7fa80",
   "metadata": {},
   "outputs": [],
   "source": [
    "def clean_outliers(df):\n",
    "    df = df.copy()\n",
    "    print(\"Before filters:\", df.shape)\n",
    "    \n",
    "    # AGE: Keep if not NaN and in range\n",
    "    df = df[(df['AGE'].notna()) & (df['AGE'] >= 0) & (df['AGE'] <= 120)]\n",
    "    print(\"After AGE filter:\", df.shape)\n",
    "    \n",
    "    # DMDY: Keep if not NaN and >=0 (imputed, so rare NaN)\n",
    "    df = df[(df['DMDY'].notna()) & (df['DMDY'] >= 0)]\n",
    "    print(\"After DMDY filter:\", df.shape)\n",
    "    print(\"DMDY unique values:\", df['DMDY'].unique())\n",
    "    \n",
    "    # STUDY_DURATION: Keep if not NaN and >=0\n",
    "    df = df[(df['STUDY_DURATION'].notna()) & (df['STUDY_DURATION'] >= 0)]\n",
    "    print(\"After STUDY_DURATION filter:\", df.shape)\n",
    "    \n",
    "    df = df.drop_duplicates(subset=['USUBJID'])\n",
    "    print(\"After duplicates:\", df.shape)\n",
    "    return df\n",
    "    \n",
    "clean_outliers_df = clean_outliers(derive_variables_df)\n",
    "clean_outliers_df.head(5)"
   ]
  },
  {
   "cell_type": "markdown",
   "id": "4736a255-019f-402e-96f4-fbcb13c4b46d",
   "metadata": {},
   "source": [
    "### 6. Consistency Checks (CDISC controlled terms)"
   ]
  },
  {
   "cell_type": "code",
   "execution_count": null,
   "id": "297ab663-17d0-4c95-8c89-de1dd560a42b",
   "metadata": {},
   "outputs": [],
   "source": [
    "def consistency_checks(df):\n",
    "    \"\"\"Step 6: Consistency Checks (mapping and flags via direct assign)\"\"\"\n",
    "    df = df.copy()\n",
    "    # SEX restriction\n",
    "    df['SEX'] = df['SEX'].where(df['SEX'].isin(['M', 'F', 'U']), 'U')\n",
    "    \n",
    "    # RACE mapping\n",
    "    race_map = {\n",
    "        'AMERICAN INDIAN OR ALASKA NATIVE': 'AMERICAN INDIAN/ALASKA NATIVE',\n",
    "        'ASIAN': 'ASIAN',\n",
    "        'BLACK OR AFRICAN AMERICAN': 'BLACK/AFRICAN AMERICAN',\n",
    "        'NATIVE HAWAIIAN OR OTHER PACIFIC ISLANDER': 'NATIVE HAWAIIAN/OTHER PACIFIC ISLANDER',\n",
    "        'WHITE': 'WHITE'\n",
    "    }\n",
    "    df['RACE'] = df['RACE'].replace(race_map)\n",
    "    \n",
    "    # High-Risk flag\n",
    "    df['HIGH_RISK'] = ((df['AGE'] > 70) | \n",
    "                       (df['RACE'].str.contains('ASIAN|BLACK', na=False)) | \n",
    "                       (df['ARM_TYPE'] == 'Treatment')).astype(int)\n",
    "    \n",
    "    # Drop constants/redundants\n",
    "    drop_cols = ['DOMAIN', 'SUBJID']\n",
    "    df = df.drop(columns=[col for col in drop_cols if col in df.columns])\n",
    "    return df\n",
    "\n",
    "    \n",
    "consistency_df = consistency_checks(clean_outliers_df)\n",
    "consistency_df.head(5)"
   ]
  },
  {
   "cell_type": "markdown",
   "id": "3c0c1012-db8c-4648-be46-8bd485b943a0",
   "metadata": {},
   "source": [
    "### 7. Export Prep (reorder for DB, add audit)"
   ]
  },
  {
   "cell_type": "code",
   "execution_count": null,
   "id": "73d82e47-4359-4207-9294-592e112fee43",
   "metadata": {},
   "outputs": [],
   "source": [
    "def prepare_export(df):\n",
    "    \"\"\"Step 7: Export Prep (reindex and timestamp)\"\"\"\n",
    "    df = df.copy()\n",
    "    col_order = [\n",
    "        'USUBJID', 'STUDYID', 'SITEID', 'AGE', 'AGEU', 'SEX', 'RACE', 'ETHNIC', 'COUNTRY',\n",
    "        'ARMCD', 'ARM', 'ACTARMCD', 'ACTARM', 'RFXSTDTC', 'RFXENDTC', 'DMDY', 'DMDTC',\n",
    "        'AGE_GROUP', 'ARM_TYPE', 'STUDY_DURATION', 'HIGH_RISK'\n",
    "    ]\n",
    "    existing_cols = [col for col in col_order if col in df.columns]\n",
    "    remaining_cols = [col for col in df.columns if col not in col_order]\n",
    "    df = df.reindex(columns=existing_cols + remaining_cols)\n",
    "    df['ETL_TIMESTAMP'] = pd.Timestamp.now()\n",
    "    return df\n",
    "    \n",
    "prepare_export_df = prepare_export(consistency_df)\n",
    "prepare_export_df.head(5)"
   ]
  },
  {
   "cell_type": "code",
   "execution_count": null,
   "id": "9e0ea5fe-ff00-4374-96fa-b5a0ae34b02e",
   "metadata": {},
   "outputs": [],
   "source": []
  },
  {
   "cell_type": "code",
   "execution_count": null,
   "id": "47b9a2b2-4bd0-45bb-9e7b-40d1b0bbf240",
   "metadata": {},
   "outputs": [],
   "source": []
  },
  {
   "cell_type": "code",
   "execution_count": null,
   "id": "0ccbc202-55a7-4641-921d-4284acbdab26",
   "metadata": {},
   "outputs": [],
   "source": []
  },
  {
   "cell_type": "code",
   "execution_count": null,
   "id": "d15a8bf0-ffde-4f58-92dc-1247c1a0252d",
   "metadata": {},
   "outputs": [],
   "source": []
  },
  {
   "cell_type": "code",
   "execution_count": null,
   "id": "9c246851-8910-4b8e-8926-4efa656dbb59",
   "metadata": {},
   "outputs": [],
   "source": []
  },
  {
   "cell_type": "code",
   "execution_count": null,
   "id": "bf1cd92a-ebcf-4b10-8f5f-8e8248e0dd26",
   "metadata": {},
   "outputs": [],
   "source": []
  }
 ],
 "metadata": {
  "kernelspec": {
   "display_name": "Python 3 (ipykernel)",
   "language": "python",
   "name": "python3"
  },
  "language_info": {
   "codemirror_mode": {
    "name": "ipython",
    "version": 3
   },
   "file_extension": ".py",
   "mimetype": "text/x-python",
   "name": "python",
   "nbconvert_exporter": "python",
   "pygments_lexer": "ipython3",
   "version": "3.11.4"
  }
 },
 "nbformat": 4,
 "nbformat_minor": 5
}
